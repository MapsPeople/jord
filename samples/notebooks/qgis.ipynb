{
 "cells": [
  {
   "cell_type": "code",
   "execution_count": null,
   "metadata": {
    "collapsed": true
   },
   "outputs": [],
   "source": []
  },
  {
   "cell_type": "code",
   "execution_count": 1,
   "outputs": [],
   "source": [
    "import warg"
   ],
   "metadata": {
    "collapsed": false
   }
  },
  {
   "cell_type": "code",
   "execution_count": null,
   "outputs": [],
   "source": [],
   "metadata": {
    "collapsed": false,
    "pycharm": {
     "is_executing": true
    }
   }
  },
  {
   "cell_type": "code",
   "execution_count": null,
   "outputs": [],
   "source": [
    "from pathlib import Path\n",
    "from jord.serialisation.well_known_text import load_wkts_from_csv, csv_wkt_generator\n",
    "\n",
    "if __name__ == \"__main__\":\n",
    "\n",
    "    def asdc():\n",
    "        # \"routelayer_FordRotundaCenter_20230306161537.csv\"\n",
    "\n",
    "        print(\n",
    "            load_wkts_from_csv(\n",
    "                Path(\n",
    "                    r\"C:\\Users\\chen\\Downloads\\WallGenData\\locations_FordRotundaCenter_20230306161556.csv\"\n",
    "                )\n",
    "            )\n",
    "        )\n",
    "\n",
    "    def ausidh():\n",
    "        gen = csv_wkt_generator(\n",
    "            Path(\n",
    "                r\"C:\\Users\\chen\\Downloads\\WallGenData\\locations_FordRotundaCenter_20230306161556.csv\"\n",
    "            )\n",
    "        )\n",
    "        for g in gen:\n",
    "            print(g)"
   ],
   "metadata": {
    "collapsed": false
   }
  }
 ],
 "metadata": {
  "kernelspec": {
   "display_name": "Python 3",
   "language": "python",
   "name": "python3"
  },
  "language_info": {
   "codemirror_mode": {
    "name": "ipython",
    "version": 2
   },
   "file_extension": ".py",
   "mimetype": "text/x-python",
   "name": "python",
   "nbconvert_exporter": "python",
   "pygments_lexer": "ipython2",
   "version": "2.7.6"
  }
 },
 "nbformat": 4,
 "nbformat_minor": 0
}
